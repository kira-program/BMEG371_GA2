{
  "nbformat": 4,
  "nbformat_minor": 5,
  "metadata": {
    "kernelspec": {
      "display_name": "Python 3 (ipykernel)",
      "language": "python",
      "name": "python3"
    },
    "language_info": {
      "codemirror_mode": {
        "name": "ipython",
        "version": 3
      },
      "file_extension": ".py",
      "mimetype": "text/x-python",
      "name": "python",
      "nbconvert_exporter": "python",
      "pygments_lexer": "ipython3",
      "version": "3.9.6"
    },
    "colab": {
      "name": "GA2_3_2.ipynb",
      "provenance": [],
      "collapsed_sections": []
    }
  },
  "cells": [
    {
      "cell_type": "code",
      "metadata": {
        "id": "proud-summer",
        "colab": {
          "base_uri": "https://localhost:8080/",
          "height": 17
        },
        "outputId": "b7ff414c-d3a4-4730-8353-c96e095e2c53"
      },
      "source": [
        "%load_ext autoreload\n",
        "%autoreload 2\n",
        "\n",
        "import sys, os\n",
        "import numpy as np\n",
        "import matplotlib.pyplot as plt\n",
        "\n",
        "import numpy as np\n",
        "import scipy as sp\n",
        "import scipy.sparse as sps\n",
        "import scipy.sparse.linalg as LAS\n",
        "\n",
        "from IPython.core.display import display, HTML\n",
        "display(HTML(\"<style>.container { width:100% !important; }</style>\"))"
      ],
      "id": "proud-summer",
      "execution_count": null,
      "outputs": [
        {
          "output_type": "display_data",
          "data": {
            "text/html": [
              "<style>.container { width:100% !important; }</style>"
            ],
            "text/plain": [
              "<IPython.core.display.HTML object>"
            ]
          },
          "metadata": {}
        }
      ]
    },
    {
      "cell_type": "code",
      "metadata": {
        "tags": [],
        "id": "primary-easter",
        "colab": {
          "base_uri": "https://localhost:8080/",
          "height": 347
        },
        "outputId": "699fe55b-44d6-468c-a952-9b54a264b100"
      },
      "source": [
        "# Setup basic domain\n",
        "L = 0.1\n",
        "D = 0.0000001\n",
        "\n",
        "N = 10     # Number of lattice points\n",
        "h = L / N  # Spatial step size\n",
        "\n",
        "# Setup final solution time + time-step\n",
        "tf = 0\n",
        "t = 0\n",
        "k  = 0.05\n",
        "\n",
        "w = np.zeros(N+1)\n",
        "w_next = np.zeros(N+1)\n",
        "\n",
        "#arbritruary large vectors\n",
        "temp_center = np.zeros(9000000) #list of temperature at center of zero\n",
        "t_list = np.zeros(9000000) #to plot\n",
        "\n",
        "w[N] = 150 #boundary condition\n",
        "\n",
        "#inside oven\n",
        "while w[0] <= 73.0092655: #found through guess and check \n",
        "      #set boundary conditions\n",
        "      w[N] = 150\n",
        "      w[0] = w[1] #no flux at center\n",
        "\n",
        "      for i in range(1, N+1): \n",
        "          if i == 1:\n",
        "              w_next[i] = (1 - (2*k*D/(h*h))*(1+1/i))*w[i] + (D*k/(h*h) + 2*D*k/(i*h*h))*w[i+1]\n",
        "          elif i == N:\n",
        "              w_next[i] = (D*k/(h*h))*w[i-1] + (1 - (2*k*D/(h*h))*(1+1/i))*w[i]\n",
        "          else:\n",
        "              w_next[i] = (D*k/(h*h))*w[i-1] + (1 - (2*k*D/(h*h))*(1+1/i))*w[i] + (D*k/(h*h) + 2*D*k/(i*h*h))*w[i+1]\n",
        "    \n",
        "      w = w_next\n",
        "      temp_center[t] = w[0] \n",
        "      t_list[t] = tf \n",
        "      t = t + 1\n",
        "      tf = tf + k\n",
        "    \n",
        "#      if t%100000 == 0:\n",
        "#        print(\"in oven w =\", w[0])\n",
        "\n",
        "print(\"Time removed: \", tf)\n",
        "\n",
        "#outside oven\n",
        "reaches75 = 0\n",
        "\n",
        "while w[0] >= 30:\n",
        "      w[N] = 30\n",
        "      w[0] = w[1] #no flux at center\n",
        "\n",
        "      for i in range(1, N+1): #NOTE TO JESS CHECK + or - IN TERM a\n",
        "          if i == 1:\n",
        "              w_next[i] = (1 - (2*k*D/(h*h))*(1+1/i))*w[i] + (D*k/(h*h) + 2*D*k/(i*h*h))*w[i+1]\n",
        "          elif i == N:\n",
        "              w_next[i] = (D*k/(h*h))*w[i-1] + (1 - (2*k*D/(h*h))*(1+1/i))*w[i]\n",
        "          else:\n",
        "              w_next[i] = (D*k/(h*h))*w[i-1] + (1 - (2*k*D/(h*h))*(1+1/i))*w[i] + (D*k/(h*h) + 2*D*k/(i*h*h))*w[i+1]\n",
        "    \n",
        "      #To Check:\n",
        "      if w[0] >= 75 and reaches75 == 0:    \n",
        "            print(\"Reaches 75 at time: \", tf)\n",
        "            reaches75 = 1 #to stop printing after minimum time found\n",
        "            \n",
        "      w = w_next\n",
        "      temp_center[t] = w[0] \n",
        "      t_list[t] = tf \n",
        "      t = t + 1\n",
        "      tf = tf + k\n",
        "    \n",
        "     # if t%1000 == 0:\n",
        "      #  print(\"out of oven w =\", w[0])\n",
        "\n",
        "print(\"time\", tf)\n",
        "#print(temp_center)\n",
        "plt.plot(t_list, temp_center)\n",
        "plt.title('Center temperature vs. time')\n",
        "plt.xlabel('Time(s)')\n",
        "plt.ylabel('Temperature(Celsius)')\n",
        "plt.show()\n"
      ],
      "id": "primary-easter",
      "execution_count": null,
      "outputs": [
        {
          "output_type": "stream",
          "name": "stdout",
          "text": [
            "Time removed:  23309.54999980105\n",
            "Reaches 75 at time:  25750.199999765533\n",
            "time 41156.45000015168\n"
          ]
        },
        {
          "output_type": "display_data",
          "data": {
            "image/png": "[encoded data removed]",
            "text/plain": [
              "<Figure size 432x288 with 1 Axes>"
            ]
          },
          "metadata": {
            "needs_background": "light"
          }
        }
      ]
    }
  ]
}